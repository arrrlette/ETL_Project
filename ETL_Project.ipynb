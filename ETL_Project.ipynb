{
 "cells": [
  {
   "cell_type": "code",
   "execution_count": null,
   "metadata": {},
   "outputs": [],
   "source": [
    "import pandas as pd\n",
    "from sqlalchemy import create_engine \n",
    "import psycopg2"
   ]
  },
  {
   "cell_type": "code",
   "execution_count": null,
   "metadata": {},
   "outputs": [],
   "source": [
    "automation_file = \"Resources/automation_data_by_state.csv\"\n",
    "automation_data_df = pd.read_csv(automation_file)\n",
    "\n",
    "#take the hyphen out of the code\n",
    "automation_data_df[\"SOC\"] = automation_data_df['SOC'].astype(str)\n",
    "\n",
    "automation_data_df[\"SOC\"] = automation_data_df['SOC'].str.replace(\"-\", '')\n",
    "\n",
    "automation_data_df = automation_data_df.rename(columns={\"SOC\":\"detail_id\", \"Occupation\":\"occupation\",\n",
    "                                                        \"Probability\":\"probability\"})\n",
    "\n",
    "automation_data_df .set_index(\"detail_id\", inplace=True)\n",
    "\n",
    "automation_data_df.head()"
   ]
  },
  {
   "cell_type": "code",
   "execution_count": null,
   "metadata": {},
   "outputs": [],
   "source": [
    "#rename states to match SQL tables\n",
    "automation_data_df = automation_data_df.rename(columns={\"District of Columbia\":\"District_of_Columbia\", \"Rhode Island\":\"Rhode_Island\",\n",
    "                                                        \"New Hampshire\":\"New_Hampshire\", \"New Jersey\": \"New_Jersey\", \"New York\": \"New_York\",\n",
    "                                                        \"North Carolina\":\"North_Carolina\", \"North Dakota\":\"North_Dakota\", \"South Carolina\": \"South_Carolina\",\n",
    "                                                        \"South Dakota\":\"South_Dakota\", \"West Virgina\": \"West_Virgina\"})\n"
   ]
  },
  {
   "cell_type": "code",
   "execution_count": null,
   "metadata": {},
   "outputs": [],
   "source": [
    "occupation_salary_file = \"Resources/occupation_salary.csv\"\n",
    "occupation_salary_df = pd.read_csv(occupation_salary_file)\n",
    "occupation_salary_df.set_index(\"OCC_CODE\")\n"
   ]
  },
  {
   "cell_type": "code",
   "execution_count": null,
   "metadata": {},
   "outputs": [],
   "source": [
    "#filter occupation dataframe to only major occupation group id and title\n",
    "occupation_major_df = occupation_salary_df.loc[occupation_salary_df[\"OCC_GROUP\"] == \"major\", [\"OCC_CODE\", \"OCC_TITLE\"]]\n",
    "\n",
    "#take the hyphen out of the code\n",
    "occupation_major_df[\"OCC_CODE\"] = occupation_major_df['OCC_CODE'].astype(str)\n",
    "\n",
    "occupation_major_df[\"OCC_CODE\"] = occupation_major_df['OCC_CODE'].str.replace(\"-\", '')\n",
    "\n",
    "occupation_major_df = occupation_major_df.rename(columns={\"OCC_CODE\":\"major_id\"})\n",
    "\n",
    "occupation_major_df.set_index(\"major_id\", inplace=True)\n",
    "\n",
    "occupation_major_df\n",
    "\n"
   ]
  },
  {
   "cell_type": "code",
   "execution_count": null,
   "metadata": {},
   "outputs": [],
   "source": [
    "#filter occupation dataframe to only minor occupation group id and title\n",
    "occupation_minor_df = occupation_salary_df.loc[occupation_salary_df[\"OCC_GROUP\"] == \"minor\", [\"OCC_CODE\", \"OCC_TITLE\"]]\n",
    "\n",
    "#take the hyphen out of the code\n",
    "occupation_minor_df[\"OCC_CODE\"] = occupation_minor_df['OCC_CODE'].astype(str)\n",
    "\n",
    "occupation_minor_df[\"OCC_CODE\"] = occupation_minor_df['OCC_CODE'].str.replace(\"-\", '')\n",
    "\n",
    "occupation_minor_df = occupation_minor_df.rename(columns={\"OCC_CODE\":\"minor_id\"})\n",
    "\n",
    "#add the associated broad OCC_CODE to each detail row to create link to other tables\n",
    "#store last digit of the code in a variable\n",
    "occupation_minor_df[\"major_id\"] = occupation_minor_df['minor_id'].str[:2] + '0000'\n",
    "\n",
    "#change id columns to integers\n",
    "occupation_minor_df[\"major_id\"] = occupation_minor_df['major_id'].astype(int)\n",
    "occupation_minor_df[\"minor_id\"] = occupation_minor_df[\"minor_id\"].astype(int)\n",
    "\n",
    "#set index to id column\n",
    "occupation_minor_df.set_index(\"minor_id\", inplace=True)\n",
    "\n",
    "occupation_minor_df"
   ]
  },
  {
   "cell_type": "code",
   "execution_count": null,
   "metadata": {},
   "outputs": [],
   "source": [
    "#filter occupation dataframe to only broad occupation group id and title\n",
    "occupation_broad_df = occupation_salary_df.loc[occupation_salary_df[\"OCC_GROUP\"] == \"broad\",\n",
    "                                              [\"OCC_CODE\", \"OCC_TITLE\"]]\n",
    "\n",
    "#take the hyphen out of the code\n",
    "occupation_broad_df[\"OCC_CODE\"] = occupation_broad_df['OCC_CODE'].astype(str)\n",
    "\n",
    "occupation_broad_df[\"OCC_CODE\"] = occupation_broad_df['OCC_CODE'].str.replace(\"-\", '')\n",
    "\n",
    "occupation_broad_df = occupation_broad_df.rename(columns={\"OCC_CODE\":\"broad_id\"})\n",
    "\n",
    "#add the associated broad OCC_CODE to each detail row to create link to other tables\n",
    "#store last digit of the code in a variable\n",
    "occupation_broad_df[\"minor_id\"] = occupation_broad_df['broad_id'].str[:4] + '00'\n",
    "\n",
    "#change id columns to integers\n",
    "occupation_broad_df[\"broad_id\"] = occupation_broad_df['broad_id'].astype(int)\n",
    "occupation_broad_df[\"minor_id\"] = occupation_broad_df[\"minor_id\"].astype(int)\n",
    "\n",
    "#set index to id column\n",
    "occupation_broad_df.set_index(\"broad_id\", inplace=True)\n",
    "\n",
    "occupation_broad_df"
   ]
  },
  {
   "cell_type": "code",
   "execution_count": null,
   "metadata": {},
   "outputs": [],
   "source": [
    "#filter occupation dataframe to detail occupation data\n",
    "occupation_detail_df = occupation_salary_df.loc[occupation_salary_df[\"OCC_GROUP\"] == \"detailed\",\n",
    "                                               [\"OCC_CODE\", \"OCC_TITLE\", \"TOT_EMP\", \"A_MEAN\", \"A_MEDIAN\", \"H_MEAN\", \"H_MEDIAN\"]]\n",
    "occupation_detail_df.head(10)\n",
    "\n",
    "occupation_detail_df.dtypes"
   ]
  },
  {
   "cell_type": "code",
   "execution_count": null,
   "metadata": {},
   "outputs": [],
   "source": [
    "#take the hyphen out of the code\n",
    "occupation_detail_df[\"OCC_CODE\"] = occupation_detail_df['OCC_CODE'].astype(str)\n",
    "\n",
    "occupation_detail_df[\"OCC_CODE\"] = occupation_detail_df['OCC_CODE'].str.replace(\"-\", '')\n",
    "\n",
    "\n",
    "occupation_detail_df = occupation_detail_df.rename(columns={\"OCC_CODE\":\"detail_id\", \"TOT_EMP\":\"total_emp\",\n",
    "                                                            \"A_MEAN\":\"a_mean\", \"A_MEDIAN\":\"a_median\", \"H_MEAN\": \"h_mean\",\n",
    "                                                            \"H_MEDIAN\":\"h_median\"\n",
    "                                                           })\n",
    "\n",
    "#add the associated broad OCC_CODE to each detail row to create link to other tables\n",
    "#store last digit of the code in a variable\n",
    "occupation_detail_df[\"broad_id\"] = occupation_detail_df['detail_id'].str[:5] + '0'\n",
    "\n",
    "#change id columns to integers\n",
    "occupation_detail_df[\"detail_id\"] = occupation_detail_df['detail_id'].astype(int)\n",
    "occupation_detail_df[\"broad_id\"] = occupation_detail_df[\"broad_id\"].astype(int)\n",
    "\n",
    "#remove * from rows\n",
    "occupation_detail_df[\"h_mean\"] = occupation_detail_df[\"h_mean\"].replace(\"*\", \"\")\n",
    "occupation_detail_df[\"h_median\"] = occupation_detail_df[\"h_median\"].replace(\"*\", \"\")\n",
    "occupation_detail_df[\"a_median\"] = occupation_detail_df[\"a_median\"].replace(\"*\", \"\")\n",
    "occupation_detail_df[\"a_mean\"] = occupation_detail_df[\"a_mean\"].replace(\"*\", \"\")\n",
    "                                                                            \n",
    "#remove commas from rows\n",
    "#convert to string and remove comma, conmvert to int\n",
    "occupation_detail_df[\"total_emp\"] = occupation_detail_df['total_emp'].astype(str)\n",
    "occupation_detail_df[\"total_emp\"] = occupation_detail_df['total_emp'].str.replace(\",\", \"\")\n",
    "occupation_detail_df[\"total_emp\"] = occupation_detail_df[\"total_emp\"].astype(int)\n",
    "\n",
    "#convert to string and remove comma\n",
    "occupation_detail_df[\"a_mean\"] = occupation_detail_df['a_mean'].astype(str)\n",
    "occupation_detail_df[\"a_mean\"] = occupation_detail_df['a_mean'].str.replace(\",\", \"\")\n",
    "\n",
    "#convert to string and remove comma\n",
    "occupation_detail_df[\"a_median\"] = occupation_detail_df[\"a_median\"].astype(str)\n",
    "occupation_detail_df[\"a_median\"] = occupation_detail_df[\"a_median\"].str.replace(\",\", \"\")\n",
    "\n",
    "#set index to id column\n",
    "occupation_detail_df.set_index(\"detail_id\", inplace=True)\n",
    "\n",
    "occupation_detail_df.head(20)\n",
    "\n"
   ]
  },
  {
   "cell_type": "code",
   "execution_count": null,
   "metadata": {},
   "outputs": [],
   "source": [
    "#confirm datatypes of columns\n",
    "occupation_detail_df.dtypes"
   ]
  },
  {
   "cell_type": "code",
   "execution_count": null,
   "metadata": {},
   "outputs": [],
   "source": [
    "connection_string = \"postgres:Weiser@localhost:5432/AutomationETL\"\n",
    "engine = create_engine(f'postgresql://{connection_string}')"
   ]
  },
  {
   "cell_type": "code",
   "execution_count": null,
   "metadata": {},
   "outputs": [],
   "source": [
    "# Confirm tables\n",
    "engine.table_names()"
   ]
  },
  {
   "cell_type": "code",
   "execution_count": null,
   "metadata": {},
   "outputs": [],
   "source": [
    "#load tables - detail first\n",
    "occupation_detail_df.to_sql(name='occupation_detail', con=engine, if_exists='append', index=True)"
   ]
  },
  {
   "cell_type": "code",
   "execution_count": null,
   "metadata": {
    "scrolled": true
   },
   "outputs": [],
   "source": [
    "#load tables\n",
    "automation_data_df.to_sql(name='automation', con=engine, if_exists='append', index=True)"
   ]
  },
  {
   "cell_type": "code",
   "execution_count": null,
   "metadata": {},
   "outputs": [],
   "source": [
    "#load tables\n",
    "occupation_major_df.to_sql(name='occupation_major', con=engine, if_exists='append', index=True)"
   ]
  },
  {
   "cell_type": "code",
   "execution_count": null,
   "metadata": {},
   "outputs": [],
   "source": [
    "#load tables\n",
    "occupation_minor_df.to_sql(name='occupation_minor', con=engine, if_exists='append', index=True)"
   ]
  },
  {
   "cell_type": "code",
   "execution_count": null,
   "metadata": {},
   "outputs": [],
   "source": [
    "#load tables\n",
    "occupation_broad_df.to_sql(name='occupation_broad', con=engine, if_exists='append', index=True)"
   ]
  },
  {
   "cell_type": "code",
   "execution_count": null,
   "metadata": {},
   "outputs": [],
   "source": [
    "#load tables\n",
    "occupation_detail_df.to_sql(name='occupation_detail', con=engine, if_exists='append', index=True)"
   ]
  }
 ],
 "metadata": {
  "kernelspec": {
   "display_name": "Python [conda env:root] *",
   "language": "python",
   "name": "conda-root-py"
  },
  "language_info": {
   "codemirror_mode": {
    "name": "ipython",
    "version": 3
   },
   "file_extension": ".py",
   "mimetype": "text/x-python",
   "name": "python",
   "nbconvert_exporter": "python",
   "pygments_lexer": "ipython3",
   "version": "3.7.6"
  }
 },
 "nbformat": 4,
 "nbformat_minor": 4
}
